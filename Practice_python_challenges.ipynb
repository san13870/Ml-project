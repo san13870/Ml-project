{
  "nbformat": 4,
  "nbformat_minor": 0,
  "metadata": {
    "colab": {
      "provenance": [],
      "authorship_tag": "ABX9TyM8uuUKaiCH2+qEf17TvaMk",
      "include_colab_link": true
    },
    "kernelspec": {
      "name": "python3",
      "display_name": "Python 3"
    },
    "language_info": {
      "name": "python"
    }
  },
  "cells": [
    {
      "cell_type": "markdown",
      "metadata": {
        "id": "view-in-github",
        "colab_type": "text"
      },
      "source": [
        "<a href=\"https://colab.research.google.com/github/san13870/Ml-project/blob/main/Practice_python_challenges.ipynb\" target=\"_parent\"><img src=\"https://colab.research.google.com/assets/colab-badge.svg\" alt=\"Open In Colab\"/></a>"
      ]
    },
    {
      "cell_type": "markdown",
      "source": [
        "**DAY1 :find active customers in last 30 days 0R RECENT ATIVE CUSTOMERS**"
      ],
      "metadata": {
        "id": "LFjie_lorAB7"
      }
    },
    {
      "cell_type": "code",
      "execution_count": 2,
      "metadata": {
        "colab": {
          "base_uri": "https://localhost:8080/"
        },
        "id": "QeR_f2wvpgVr",
        "outputId": "dc770f49-96e5-465d-c366-d4db46963c65"
      },
      "outputs": [
        {
          "output_type": "stream",
          "name": "stdout",
          "text": [
            "0    101\n",
            "1    102\n",
            "4    104\n",
            "Name: customer_id, dtype: int64\n"
          ]
        }
      ],
      "source": [
        "\n",
        "\n",
        "import pandas as pd\n",
        "from datetime import datetime, timedelta\n",
        "\n",
        "# Sample data\n",
        "df = pd.DataFrame({\n",
        "    'customer_id': [101, 102, 101, 103, 104],\n",
        "    'transaction_date': ['2025-07-15', '2025-08-01', '2025-08-05', '2025-06-30', '2025-07-10'],\n",
        "    'amount': [100, 200, 150, 120, 300]\n",
        "})\n",
        "\n",
        "# Convert transaction_date to datetime format\n",
        "df['transaction_date'] = pd.to_datetime(df['transaction_date'])\n",
        "\n",
        "# 🔁 Auto-detect today's date\n",
        "today = pd.to_datetime(datetime.today().date())\n",
        "cutoff_date = today - pd.Timedelta(days=30)\n",
        "\n",
        "# Filter transactions from last 30 days\n",
        "recent_txns = df[df['transaction_date'] >= cutoff_date]\n",
        "\n",
        "# Get unique customer IDs\n",
        "unique_customers = recent_txns['customer_id'].drop_duplicates()\n",
        "\n",
        "print(unique_customers)\n",
        "\n"
      ]
    }
  ]
}